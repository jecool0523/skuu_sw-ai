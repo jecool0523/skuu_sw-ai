{
 "cells": [
  {
   "cell_type": "code",
   "execution_count": null,
   "id": "e1fdfc5a",
   "metadata": {},
   "outputs": [],
   "source": [
    "!pip install transformers datasets scikit-learn --quiet\n"
   ]
  },
  {
   "cell_type": "code",
   "execution_count": null,
   "id": "1c3affd9",
   "metadata": {},
   "outputs": [],
   "source": [
    "import pandas as pd\n",
    "import numpy as np\n",
    "from datasets import Dataset, DatasetDict\n",
    "from transformers import AutoTokenizer, BertForSequenceClassification, TrainingArguments, Trainer\n",
    "from sklearn.metrics import f1_score, precision_score, recall_score\n"
   ]
  },
  {
   "cell_type": "code",
   "execution_count": null,
   "id": "b87f6aa9",
   "metadata": {},
   "outputs": [],
   "source": [
    "# Colab에 JSON 파일을 업로드한 경우 기준\n",
    "df = pd.read_json(\"a - 복사본.json\")\n",
    "df = df.rename(columns=lambda x: x.strip())  # 공백 제거\n",
    "\n",
    "unsmile_labels = [col for col in df.columns if col != \"문장\"]\n",
    "num_labels = len(unsmile_labels)\n",
    "\n",
    "dataset = Dataset.from_pandas(df)\n",
    "dataset = dataset.train_test_split(test_size=0.1, seed=42)\n",
    "dataset = DatasetDict({'train': dataset['train'], 'valid': dataset['test']})\n"
   ]
  },
  {
   "cell_type": "code",
   "execution_count": null,
   "id": "5d512e01",
   "metadata": {},
   "outputs": [],
   "source": [
    "tokenizer = AutoTokenizer.from_pretrained(\"bert-base-multilingual-cased\")\n",
    "\n",
    "def preprocess_function(examples):\n",
    "    inputs = tokenizer(examples[\"문장\"], truncation=True, padding=\"max_length\", max_length=128)\n",
    "    labels = [[ex[label] for label in unsmile_labels] for ex in examples]\n",
    "    inputs[\"labels\"] = labels\n",
    "    return inputs\n",
    "\n",
    "encoded_dataset = dataset.map(preprocess_function, batched=True)\n"
   ]
  },
  {
   "cell_type": "code",
   "execution_count": null,
   "id": "4ae83d40",
   "metadata": {},
   "outputs": [],
   "source": [
    "model = BertForSequenceClassification.from_pretrained(\n",
    "    \"bert-base-multilingual-cased\",\n",
    "    num_labels=num_labels,\n",
    "    problem_type=\"multi_label_classification\"\n",
    ")\n"
   ]
  },
  {
   "cell_type": "code",
   "execution_count": null,
   "id": "4e110b1b",
   "metadata": {},
   "outputs": [],
   "source": [
    "def compute_metrics(pred):\n",
    "    preds = (pred.predictions > 0.5).astype(int)\n",
    "    labels = pred.label_ids\n",
    "    return {\n",
    "        'f1': f1_score(labels, preds, average='macro', zero_division=0),\n",
    "        'precision': precision_score(labels, preds, average='macro', zero_division=0),\n",
    "        'recall': recall_score(labels, preds, average='macro', zero_division=0),\n",
    "    }\n"
   ]
  },
  {
   "cell_type": "code",
   "execution_count": null,
   "id": "e590d7d5",
   "metadata": {},
   "outputs": [],
   "source": [
    "training_args = TrainingArguments(\n",
    "    output_dir=\"./results\",\n",
    "    evaluation_strategy=\"epoch\",\n",
    "    save_strategy=\"epoch\",\n",
    "    learning_rate=2e-5,\n",
    "    per_device_train_batch_size=16,\n",
    "    per_device_eval_batch_size=16,\n",
    "    gradient_accumulation_steps=4,  # 논리적 batch size = 64\n",
    "    num_train_epochs=3,\n",
    "    weight_decay=0.01,\n",
    "    logging_dir=\"./logs\",\n",
    "    logging_steps=10,\n",
    ")\n"
   ]
  },
  {
   "cell_type": "code",
   "execution_count": null,
   "id": "120115c8",
   "metadata": {},
   "outputs": [],
   "source": [
    "trainer = Trainer(\n",
    "    model=model,\n",
    "    args=training_args,\n",
    "    train_dataset=encoded_dataset[\"train\"],\n",
    "    eval_dataset=encoded_dataset[\"valid\"],\n",
    "    tokenizer=tokenizer,\n",
    "    compute_metrics=compute_metrics\n",
    ")\n",
    "\n",
    "trainer.train()\n"
   ]
  },
  {
   "cell_type": "code",
   "execution_count": null,
   "id": "3ba3995c",
   "metadata": {},
   "outputs": [],
   "source": [
    "preds = trainer.predict(encoded_dataset[\"valid\"])\n",
    "pred_labels = (preds.predictions > 0.5).astype(int)\n",
    "\n",
    "# 예시 출력\n",
    "for i in range(5):\n",
    "    print(\"문장:\", dataset[\"valid\"][i][\"문장\"])\n",
    "    print(\"예측 라벨:\", {label: int(pred_labels[i][j]) for j, label in enumerate(unsmile_labels)})\n",
    "    print(\"실제 라벨:\", {label: dataset[\"valid\"][i][label] for label in unsmile_labels})\n",
    "    print()\n"
   ]
  }
 ],
 "metadata": {},
 "nbformat": 4,
 "nbformat_minor": 5
}
